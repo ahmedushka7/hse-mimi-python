{
 "cells": [
  {
   "cell_type": "markdown",
   "id": "composite-producer",
   "metadata": {},
   "source": [
    "# Контрольная работа мирэк 2022"
   ]
  },
  {
   "cell_type": "markdown",
   "id": "serial-roots",
   "metadata": {},
   "source": [
    "## 1. Магический амулет (15 баллов)\n",
    "\n",
    "Для могущественного магического ритуала Гендальфу нужно быстро подсчитывать площадь своего амулета, который умеет менять размеры. Известно, что амулет имеет форму круга, а Гендальф знает его радиус. Напишите код для подсчёта площади амулета по его радиусу.\n",
    "\n",
    "**Подсказка:** Число pi нужно подгрузить из модуля math\n",
    "\n",
    "**Примеры:**\n",
    "\n",
    "1. $ 0 \\Rightarrow 0.0$ \n",
    "2. $ 1 \\Rightarrow 3.1416$"
   ]
  },
  {
   "cell_type": "code",
   "execution_count": null,
   "id": "fossil-nudist",
   "metadata": {},
   "outputs": [],
   "source": [
    "## Ваш код"
   ]
  },
  {
   "cell_type": "markdown",
   "id": "visible-project",
   "metadata": {},
   "source": [
    "## 2. Подсчет оценок (25 баллов)\n",
    "\n",
    "Вам дан список из $N$ оценок ваших однокурсников. Оценка 0 означает, что студентьу обнулили контрольную работу за списывание. Ответьте на следующие вопросы:\n",
    "\n",
    "1) Выведите 3 числа: минимальная оценка, максимальная и средняя (среднее округлить до ближайшего целого числа)\n",
    "2) Сколько человек получило 0?\n",
    "3) Выведите 3 числа: сколько человек получило удовлетворительно (4, 5), хорошо (6, 7) и отлично (8, 9, 10)\n",
    "\n",
    "\n",
    "**Подсказка:** Среднее можно посчитать, как `sum(n) / len(n)`\n",
    "\n",
    "**Примеры:**\n",
    "\n",
    "1. $[0, 0, 4, 6, 6, 9, 9, 5] \\Rightarrow [0, 9, 5] \\quad 2 \\quad [2, 2, 2]$"
   ]
  },
  {
   "cell_type": "code",
   "execution_count": null,
   "id": "confirmed-puzzle",
   "metadata": {},
   "outputs": [],
   "source": [
    "## Ваш код"
   ]
  },
  {
   "cell_type": "markdown",
   "id": "confused-investing",
   "metadata": {},
   "source": [
    "## 3. Приффффки (30 баллов)\n",
    "\n",
    "Эконом хочет вернуть 2007. На рэдите уже появилась ветка r/2007back. Первым шагом к возвращению 2007 года является написание статусов и сообщений в виде заборчиков. Вручную делать это лениво. Поэтому реддиторы решили написать для этого код на python.\n",
    "\n",
    "**Примеры:**\n",
    "\n",
    "1. прифффффки -> ПрИфФфФфКи\n",
    "2. маша -> МаШа"
   ]
  },
  {
   "cell_type": "code",
   "execution_count": null,
   "id": "substantial-brooks",
   "metadata": {},
   "outputs": [],
   "source": [
    "## Ваш код"
   ]
  },
  {
   "cell_type": "markdown",
   "id": "pursuant-chain",
   "metadata": {},
   "source": [
    "## 4. 6ix9ine (30 баллов)\n",
    "\n",
    "Вам дается целое число, состоящее только из цифр 9 и 6. Вам нужно найти и вывести максимальное число, которое можно получить, при условии, что вам нужно \"перевернуть\" одну любую цифру (то есть заменить 9 на 6 или 6 на 9). Замена одной цифры обязательна! \n",
    "\n",
    "**Подсказка:** чтобы задача решилась проще, можно перевести целое число в формат строки.\n",
    "\n",
    "**Примеры:**\n",
    "\n",
    "1. $ 9669 \\Rightarrow 9969$ \n",
    "2. $ 9999 \\Rightarrow 9996$"
   ]
  },
  {
   "cell_type": "code",
   "execution_count": null,
   "id": "proprietary-biology",
   "metadata": {},
   "outputs": [],
   "source": [
    "## Ваш код"
   ]
  }
 ],
 "metadata": {
  "kernelspec": {
   "display_name": "Python 3",
   "language": "python",
   "name": "python3"
  },
  "language_info": {
   "codemirror_mode": {
    "name": "ipython",
    "version": 3
   },
   "file_extension": ".py",
   "mimetype": "text/x-python",
   "name": "python",
   "nbconvert_exporter": "python",
   "pygments_lexer": "ipython3",
   "version": "3.9.2"
  },
  "varInspector": {
   "cols": {
    "lenName": 16,
    "lenType": 16,
    "lenVar": 40
   },
   "kernels_config": {
    "python": {
     "delete_cmd_postfix": "",
     "delete_cmd_prefix": "del ",
     "library": "var_list.py",
     "varRefreshCmd": "print(var_dic_list())"
    },
    "r": {
     "delete_cmd_postfix": ") ",
     "delete_cmd_prefix": "rm(",
     "library": "var_list.r",
     "varRefreshCmd": "cat(var_dic_list()) "
    }
   },
   "types_to_exclude": [
    "module",
    "function",
    "builtin_function_or_method",
    "instance",
    "_Feature"
   ],
   "window_display": false
  }
 },
 "nbformat": 4,
 "nbformat_minor": 5
}

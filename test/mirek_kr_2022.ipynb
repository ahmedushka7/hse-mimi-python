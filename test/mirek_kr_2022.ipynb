{
 "cells": [
  {
   "cell_type": "markdown",
   "id": "sized-least",
   "metadata": {},
   "source": [
    "# Контрольная работа мирэк 2022\n",
    "\n",
    "## 1. Арифметика (15 баллов)\n",
    "\n",
    "У студентов нашей программы есть $N$ минут свободного времени. На одну задачу из домашнего задания они в среднем тратят $m$ минут. Необходимо вывести одной строчкой:\n",
    "\n",
    "1. сколько они могут решить задач, если посвятят им все свое свободное время (целым числом, не округляя вверх);\n",
    "2. сколько у них останется времени\n",
    "\n",
    "**Примеры:**\n",
    "\n",
    "$10 \\quad 3 \\Rightarrow 3 \\quad 1$"
   ]
  },
  {
   "cell_type": "code",
   "execution_count": 1,
   "id": "brilliant-matter",
   "metadata": {},
   "outputs": [],
   "source": [
    "## Ваш код"
   ]
  },
  {
   "cell_type": "markdown",
   "id": "animated-disabled",
   "metadata": {},
   "source": [
    "## 2. Координаты (25 баллов)\n",
    "\n",
    "Бизнесмен Вася решил открыть свою кофейню в центре Москвы. Чтобы определиться, в каком именно месте ее следует открыть, он решил проанализировать местоположения конкурентов. Для этого он спарсил координаты кофеен через сервис Google-maps. Однако координаты перемешались, и теперь Вася имеет $2 \\cdot n$ чисел, последовательность которых выглядит следующим образом: $x_1, \\ldots, x_n, y_1, \\ldots, y_n$. Нужно помочь Васе написать программу, которая трансформирует последовательность чисел с координатами в вид: $(x_1, y_1), \\ldots, (x_n, y_n)$. Считайте, что в списке всегда четное число элементов.\n",
    "\n",
    "**Примеры:**\n",
    "\n",
    "$[45.32, 41.12, 54.23, 32.31, 28.24, 48.38] \\Rightarrow [(45.32, 32.31), (41.12, 28.24), (54.23, 48.38)]$"
   ]
  },
  {
   "cell_type": "code",
   "execution_count": 4,
   "id": "remarkable-northwest",
   "metadata": {},
   "outputs": [],
   "source": [
    "## Ваш код"
   ]
  },
  {
   "cell_type": "markdown",
   "id": "democratic-credit",
   "metadata": {},
   "source": [
    "## 3. Ле Шиффр (30 баллов)\n",
    "\n",
    "Вам дана строка из набора букв, которые содержат зашифрованное слово. Также дан ключ к расшифровке этого слова. Ключом является последовательность чисел $-$ это индексы, на которых должны лежать буквы в расшифрованном слове. Нужно расшифровать и выдать получившееся слово.\n",
    "\n",
    "Например, дается зашифрованная строка \"tca\" и набор индексов 2 0 1. Значит, расшифрованным словом является слово \"cat\", так как \"t\" должна находиться на 2-ом месте, \"c\" на нулевом и \"a\" на 1-ом месте зашифрованного слова. \n",
    "\n",
    "**Примеры:**\n",
    "\n",
    "1. $\\text{tca} \\quad [2, 0, 1] \\Rightarrow \\text{cat}$\n",
    "2. $\\text{abc} \\quad [0, 1, 2] \\Rightarrow \\text{abc}$"
   ]
  },
  {
   "cell_type": "code",
   "execution_count": null,
   "id": "formed-margin",
   "metadata": {},
   "outputs": [],
   "source": [
    "## Ваш код"
   ]
  },
  {
   "cell_type": "markdown",
   "id": "false-favorite",
   "metadata": {},
   "source": [
    "## 4. Первый непропущенный (30 баллов)\n",
    "\n",
    "Часто в данных мы можем наблюдать пропуски. В Python они заполняются с помощью `None`. Например, у нас может быть массив, содержащий доходы людей в тыс. рублей. Но некоторые люди не хотят делиться этой информацией. Когда мы получили данные, мы бы хотели посмотреть хотя бы на одно нормальное наблюдение (которое не `None`). Для этого напишите функцию, которая принимает на вход массив, и возвращает первое не None значение. Если все элементы в массиве это `None`, то выведите `None`.\n",
    "\n",
    "**Примеры:**\n",
    "\n",
    "1. $[None, None, 24, 42, 3, None] \\Rightarrow 24$\n",
    "2. $[None, None] \\Rightarrow None$"
   ]
  },
  {
   "cell_type": "code",
   "execution_count": null,
   "id": "technological-initial",
   "metadata": {},
   "outputs": [],
   "source": [
    "## Ваш код"
   ]
  }
 ],
 "metadata": {
  "kernelspec": {
   "display_name": "Python 3",
   "language": "python",
   "name": "python3"
  },
  "language_info": {
   "codemirror_mode": {
    "name": "ipython",
    "version": 3
   },
   "file_extension": ".py",
   "mimetype": "text/x-python",
   "name": "python",
   "nbconvert_exporter": "python",
   "pygments_lexer": "ipython3",
   "version": "3.9.2"
  },
  "varInspector": {
   "cols": {
    "lenName": 16,
    "lenType": 16,
    "lenVar": 40
   },
   "kernels_config": {
    "python": {
     "delete_cmd_postfix": "",
     "delete_cmd_prefix": "del ",
     "library": "var_list.py",
     "varRefreshCmd": "print(var_dic_list())"
    },
    "r": {
     "delete_cmd_postfix": ") ",
     "delete_cmd_prefix": "rm(",
     "library": "var_list.r",
     "varRefreshCmd": "cat(var_dic_list()) "
    }
   },
   "types_to_exclude": [
    "module",
    "function",
    "builtin_function_or_method",
    "instance",
    "_Feature"
   ],
   "window_display": false
  }
 },
 "nbformat": 4,
 "nbformat_minor": 5
}

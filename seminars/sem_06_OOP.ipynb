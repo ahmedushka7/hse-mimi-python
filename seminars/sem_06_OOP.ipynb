{
 "cells": [
  {
   "cell_type": "markdown",
   "id": "aging-final",
   "metadata": {},
   "source": [
    "## Семинар №6: Объектно-ориентированное программирование\n",
    "\n",
    "<img src=\"images/sem_06.png\" width=\"500\">\n",
    "\n",
    "### Немного философии \n",
    "Программисты как и математики мыслят **абстракциями**. Они придумывают какие-то _объекты_, позволяющие проще решать задачи и понимать, как устроен мир. \n",
    "\n",
    "**Примеры абстракций:** \n",
    "\n",
    "Например, комплексные числа в математике - ничто иное как просто абстракция, придуманная над вещественными числами, благодаря которой открылись возможности изучения неизведанных путей в науке. Подробнее можно почитать [тут](https://habr.com/ru/post/650567/)\n",
    "\n",
    "В программировании такая же ситуация, например, мы уже знакомились с таким понятием как _хеш-таблица_. Это ведь тоже ничто иное, как просто выдуманная абстракция специальной формы хранения данных, которая позволяет заметно ускорить время работы многих алгоритмов.  \n",
    "\n",
    "**Что определяет абстракцию?**\n",
    "\n",
    "Итак, абстракции - это просто выдуманные хитрым образом объекты. Не зря мы твердили практически всегда, что _все в питоне является объектом_. Что же отличает одни объекты от других? Ответ простой: логика операций (или _методов_) + набор _свойств_. Например, объект \"число\" отличает от объекта \"строка\" то, что с числами можно совершать арифметические операции по специальным правилам, в то время как со строками можно делать что-то другое: например, разбивать их на слова, считать кол-во символом и так далее. У чисел есть разряды, а у строк есть символы. \n",
    "\n",
    "Если посмотреть шире и углубиться немного в философию, то на самом деле все, что окружает нас является простой абстракцией - хитро придуманным объектом, выполняющим различные функции. Например, робот-пылесос - это просто объект, который характеризуется конкретными **свойствами** (объемом мощности, размером контейнера для пыли, наличием приложения на смартфон) и выполняющий определенные функции или **методы** (убирать пыль, определять препятствия, заряжаться) \n",
    "\n",
    "**Как это связано с программированием?**\n",
    "\n",
    "Так вот, объектно-ориентированное программирование - это возможность _создавать свои собственные абстракции_. Задавать им свойства, определять их методы. Мы уже не придумываем отдельные функции, которые работают с существующими объектами, мы создаем сами объекты!"
   ]
  },
  {
   "cell_type": "markdown",
   "id": "deadly-cruise",
   "metadata": {},
   "source": [
    "### Реализация в Python\n",
    "\n",
    "Абстракциями в дальнейшем мы будем называть **классами**, а сами объекты **экземплярами класса**\n",
    "\n",
    "Например, число $5$ является экземпляром класса `int`. Проверить принадлежность объекта к конкретному классу можно с помощью функции `isinstance()`"
   ]
  },
  {
   "cell_type": "code",
   "execution_count": 1,
   "id": "diverse-worthy",
   "metadata": {},
   "outputs": [
    {
     "data": {
      "text/plain": [
       "True"
      ]
     },
     "execution_count": 1,
     "metadata": {},
     "output_type": "execute_result"
    }
   ],
   "source": [
    "isinstance(5, int)"
   ]
  },
  {
   "cell_type": "markdown",
   "id": "cleared-springer",
   "metadata": {},
   "source": [
    "Создадим свой первый собственный класс. Предположим, это будет **5-ти звездочный отель в Турции**. Основным параметром этого класса будет _кол-во комнат_.  \n",
    "\n",
    "<img src=\"images/hotel.jpeg\" width=\"800\">"
   ]
  },
  {
   "cell_type": "code",
   "execution_count": 2,
   "id": "cleared-shuttle",
   "metadata": {},
   "outputs": [],
   "source": [
    "class Hotel:\n",
    "    \n",
    "    # метод, который вызывается при создании экземпляра класса\n",
    "    # self - сам экземпляр класса\n",
    "    def __init__(self, number_of_rooms):\n",
    "        self.number_of_rooms = number_of_rooms"
   ]
  },
  {
   "cell_type": "code",
   "execution_count": 5,
   "id": "consecutive-canon",
   "metadata": {},
   "outputs": [
    {
     "data": {
      "text/plain": [
       "4"
      ]
     },
     "execution_count": 5,
     "metadata": {},
     "output_type": "execute_result"
    }
   ],
   "source": [
    "my_hotel = Hotel(4)\n",
    "my_hotel.number_of_rooms"
   ]
  },
  {
   "cell_type": "markdown",
   "id": "patient-subsection",
   "metadata": {},
   "source": [
    "Отлично! Теперь давайте подумаем, какие методы нам нужны в этом отеле? Предположим, мы хотим бронировать свободные комнаты для наших клиентов. Клиенты могут позвонить нам и попросить забронировать для них комнату по ее номеру, также они могут позвонить и отказаться от бронирования либо просто отдохнуть и выехать (тогда комната тоже должна стать свободной). В итоге мы хотим построить систему, которая будет бронировать комнату, если в данный момент она свободна либо отвечать клиенту, что сейчас данная комната занята. Также хотим мониторить кол-во свободных комнат"
   ]
  },
  {
   "cell_type": "code",
   "execution_count": 18,
   "id": "celtic-remains",
   "metadata": {},
   "outputs": [],
   "source": [
    "class Hotel:\n",
    "    \n",
    "    def __init__(self, number_of_rooms):\n",
    "        self.rooms = [0] * number_of_rooms\n",
    "        self.number_of_rooms = number_of_rooms\n",
    "        \n",
    "    # кто-то забронировал\n",
    "    def book(self, room_id):\n",
    "        if self.rooms[room_id] == 0:\n",
    "            self.rooms[room_id] = 1\n",
    "        else:\n",
    "            print(\"Комната уже занята\")\n",
    "            \n",
    "    # кто-то уехал\n",
    "    def free(self, room_id):\n",
    "        if self.rooms[room_id] == 1:\n",
    "            self.rooms[room_id] = 0\n",
    "        else:\n",
    "            print(\"Комната и так свободна\")\n",
    "        \n",
    "    # смотрим на кол-во свободных комнат\n",
    "    def open_rooms(self):\n",
    "        return len(self.rooms) - sum(self.rooms)"
   ]
  },
  {
   "cell_type": "code",
   "execution_count": 19,
   "id": "fantastic-chorus",
   "metadata": {},
   "outputs": [
    {
     "name": "stdout",
     "output_type": "stream",
     "text": [
      "4\n",
      "3\n",
      "2\n",
      "Комната уже занята\n",
      "2\n",
      "3\n"
     ]
    }
   ],
   "source": [
    "my_hotel = Hotel(4)\n",
    "print(my_hotel.open_rooms())\n",
    "\n",
    "my_hotel.book(0) # забронили комнату с номером 0 \n",
    "print(my_hotel.open_rooms())\n",
    "\n",
    "my_hotel.book(3) # забронили комнату с номером 3\n",
    "print(my_hotel.open_rooms())\n",
    "\n",
    "my_hotel.book(3) # попробовали забронить комнату с номером 3, но она уже занята\n",
    "print(my_hotel.open_rooms())\n",
    "\n",
    "my_hotel.free(0)   # люди из комнаты 0 выехали\n",
    "print(my_hotel.open_rooms())"
   ]
  }
 ],
 "metadata": {
  "kernelspec": {
   "display_name": "Python 3",
   "language": "python",
   "name": "python3"
  },
  "language_info": {
   "codemirror_mode": {
    "name": "ipython",
    "version": 3
   },
   "file_extension": ".py",
   "mimetype": "text/x-python",
   "name": "python",
   "nbconvert_exporter": "python",
   "pygments_lexer": "ipython3",
   "version": "3.9.2"
  },
  "varInspector": {
   "cols": {
    "lenName": 16,
    "lenType": 16,
    "lenVar": 40
   },
   "kernels_config": {
    "python": {
     "delete_cmd_postfix": "",
     "delete_cmd_prefix": "del ",
     "library": "var_list.py",
     "varRefreshCmd": "print(var_dic_list())"
    },
    "r": {
     "delete_cmd_postfix": ") ",
     "delete_cmd_prefix": "rm(",
     "library": "var_list.r",
     "varRefreshCmd": "cat(var_dic_list()) "
    }
   },
   "types_to_exclude": [
    "module",
    "function",
    "builtin_function_or_method",
    "instance",
    "_Feature"
   ],
   "window_display": false
  }
 },
 "nbformat": 4,
 "nbformat_minor": 5
}

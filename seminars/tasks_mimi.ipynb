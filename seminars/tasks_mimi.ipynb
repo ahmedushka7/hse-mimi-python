{
 "cells": [
  {
   "cell_type": "markdown",
   "id": "sporting-jefferson",
   "metadata": {},
   "source": [
    "## Подготовка к К/Р. Мировая экономика"
   ]
  },
  {
   "cell_type": "markdown",
   "id": "racial-conservation",
   "metadata": {},
   "source": [
    "### Удаление гласных \n",
    "Дана строка, нужно удалить все гласные из этой строки"
   ]
  },
  {
   "cell_type": "code",
   "execution_count": 2,
   "id": "attended-scenario",
   "metadata": {},
   "outputs": [],
   "source": [
    "### ваш код:"
   ]
  },
  {
   "cell_type": "markdown",
   "id": "threatened-upset",
   "metadata": {},
   "source": [
    "### Накопленная сумма\n",
    "Дан массив, нужно вывести массив его накопленных сумм\n",
    "\n",
    "пример: $[1, 2, 10, 4] \\rightarrow [1, 3, 13, 17]$"
   ]
  },
  {
   "cell_type": "code",
   "execution_count": 3,
   "id": "relative-raise",
   "metadata": {},
   "outputs": [],
   "source": [
    "### ваш код:"
   ]
  },
  {
   "cell_type": "markdown",
   "id": "parallel-strip",
   "metadata": {},
   "source": [
    "### Кол-во отпусков\n",
    "\n",
    "На вход идет массив из кортежей, где первым элементов выступает имя работника, а вторым - дата, когда работник был в отпуске (данные за один год). По правилам компании нельзя уходить в отпуск более одного раза в одном и том же месяце. Напишите программу, которая для конкретного сотрудника и месяца отвечает, доступен ли ему отпуск. "
   ]
  },
  {
   "cell_type": "code",
   "execution_count": 22,
   "id": "athletic-vienna",
   "metadata": {},
   "outputs": [
    {
     "data": {
      "text/plain": [
       "False"
      ]
     },
     "execution_count": 22,
     "metadata": {},
     "output_type": "execute_result"
    }
   ],
   "source": [
    "vacations = [('max', '2022-04'), ('ahmed', '2022-05'), ('filipp', '2022-03'), ('ahmed', '2022-04')]\n",
    "\n",
    "get_vacations(vacations, 'ahmed', '2022-05')"
   ]
  },
  {
   "cell_type": "code",
   "execution_count": 21,
   "id": "gorgeous-determination",
   "metadata": {},
   "outputs": [],
   "source": [
    "### ваш код:"
   ]
  },
  {
   "cell_type": "markdown",
   "id": "static-hopkins",
   "metadata": {},
   "source": [
    "### Поиск знаменитости*\n",
    "\n",
    "Дано $k$ - число людей. Мы можем спрашивать, знает ли кто-то из $k$ какого-то другого человека. Цель: за меньшее число вопросов найти знаменитость. Знаменитость - тот чел, который никого из компании не знает, но все знают его. "
   ]
  },
  {
   "cell_type": "markdown",
   "id": "innocent-analyst",
   "metadata": {},
   "source": [
    "`Решение:`  \n",
    "\n",
    "2 указателя. Спрашиваем крайне левого (L) чела, знает ли он крайне правого (R). Если знает, то он точно не знаменитость и двигаем L вправо. Если не знает, то R точно не знаменитость и двигаем R влево. В итоге сходимся к одному челу - он потенциальная знаменитость. Затем для него пробегаем по всем людям и спрашиваем, знает ли он их и знают ли они его. "
   ]
  },
  {
   "cell_type": "code",
   "execution_count": 23,
   "id": "sapphire-sleeping",
   "metadata": {},
   "outputs": [],
   "source": [
    "person_relations = {'Will Smith': [], \n",
    "                    'Vlad': ['Polina', 'Will Smith'], \n",
    "                    'Polina': ['Serega', 'Vlad', 'Will Smith'], \n",
    "                    'Serega': ['Will Smith']}\n",
    "\n",
    "persons = ['Vlad', 'Will Smith', 'Polina', 'Serega']"
   ]
  },
  {
   "cell_type": "code",
   "execution_count": 31,
   "id": "designing-mambo",
   "metadata": {},
   "outputs": [],
   "source": [
    "### ваш код:"
   ]
  }
 ],
 "metadata": {
  "kernelspec": {
   "display_name": "Python 3",
   "language": "python",
   "name": "python3"
  },
  "language_info": {
   "codemirror_mode": {
    "name": "ipython",
    "version": 3
   },
   "file_extension": ".py",
   "mimetype": "text/x-python",
   "name": "python",
   "nbconvert_exporter": "python",
   "pygments_lexer": "ipython3",
   "version": "3.9.2"
  },
  "varInspector": {
   "cols": {
    "lenName": 16,
    "lenType": 16,
    "lenVar": 40
   },
   "kernels_config": {
    "python": {
     "delete_cmd_postfix": "",
     "delete_cmd_prefix": "del ",
     "library": "var_list.py",
     "varRefreshCmd": "print(var_dic_list())"
    },
    "r": {
     "delete_cmd_postfix": ") ",
     "delete_cmd_prefix": "rm(",
     "library": "var_list.r",
     "varRefreshCmd": "cat(var_dic_list()) "
    }
   },
   "types_to_exclude": [
    "module",
    "function",
    "builtin_function_or_method",
    "instance",
    "_Feature"
   ],
   "window_display": false
  }
 },
 "nbformat": 4,
 "nbformat_minor": 5
}

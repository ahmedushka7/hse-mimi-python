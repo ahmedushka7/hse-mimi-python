{
 "cells": [
  {
   "cell_type": "markdown",
   "id": "tracked-editor",
   "metadata": {},
   "source": [
    "# Семинар №2: Конструкции и коллекции. Начало"
   ]
  },
  {
   "cell_type": "markdown",
   "id": "wicked-geography",
   "metadata": {},
   "source": [
    "<img src=\"images/sem_02.jpg\" width=\"450\">"
   ]
  },
  {
   "cell_type": "markdown",
   "id": "rough-automation",
   "metadata": {},
   "source": [
    "## 1. Переменные"
   ]
  },
  {
   "cell_type": "markdown",
   "id": "latest-pattern",
   "metadata": {},
   "source": [
    "На прошлой паре мы познакомились с основными объектами в python. Давайте напомним о них: \n",
    "\n",
    "* `int` - целое число (примеры: 5, 0, -1) \n",
    "* `float` - вещественное число (примеры: 2.3, 4.0)\n",
    "* `str` - строка (примеры: 'Maxim', 'Hello world!')\n",
    "* `bool` - булевский оператор (примеры: True, False)"
   ]
  },
  {
   "cell_type": "markdown",
   "id": "stylish-conspiracy",
   "metadata": {},
   "source": [
    "Иногда нужно, чтобы `python` **запоминал** какие-то объекты, чтобы в дальнейшем мы могли к ним обращаться, не прописывая их каждый раз. Для этого существуют переменные. Давайте посмотрим, как они работают:"
   ]
  },
  {
   "cell_type": "code",
   "execution_count": 1,
   "id": "interim-danish",
   "metadata": {},
   "outputs": [],
   "source": [
    "# закинули в переменную \"a\" целое число 5 (объект типа int)\n",
    "a = 5"
   ]
  },
  {
   "cell_type": "code",
   "execution_count": 3,
   "id": "insured-longer",
   "metadata": {},
   "outputs": [
    {
     "data": {
      "text/plain": [
       "15"
      ]
     },
     "execution_count": 3,
     "metadata": {},
     "output_type": "execute_result"
    }
   ],
   "source": [
    "# поработали с переменной a \n",
    "a + 10"
   ]
  },
  {
   "cell_type": "code",
   "execution_count": 4,
   "id": "insured-aside",
   "metadata": {},
   "outputs": [
    {
     "data": {
      "text/plain": [
       "15"
      ]
     },
     "execution_count": 4,
     "metadata": {},
     "output_type": "execute_result"
    }
   ],
   "source": [
    "# записали результат в новую переменную и посмотрели на нее\n",
    "b = a + 10\n",
    "b"
   ]
  },
  {
   "cell_type": "markdown",
   "id": "documented-birmingham",
   "metadata": {},
   "source": [
    "В переменных можно хранить любой объект питона, например, это может быть строка либо результат какой-то функции:"
   ]
  },
  {
   "cell_type": "code",
   "execution_count": 5,
   "id": "spiritual-separation",
   "metadata": {},
   "outputs": [
    {
     "data": {
      "text/plain": [
       "'Hello World!'"
      ]
     },
     "execution_count": 5,
     "metadata": {},
     "output_type": "execute_result"
    }
   ],
   "source": [
    "stroka = 'Hello World!'\n",
    "stroka"
   ]
  },
  {
   "cell_type": "code",
   "execution_count": 7,
   "id": "stunning-nudist",
   "metadata": {},
   "outputs": [
    {
     "data": {
      "text/plain": [
       "120"
      ]
     },
     "execution_count": 7,
     "metadata": {},
     "output_type": "execute_result"
    }
   ],
   "source": [
    "import math \n",
    "\n",
    "result_of_function = math.factorial(5)\n",
    "result_of_function"
   ]
  },
  {
   "cell_type": "markdown",
   "id": "sublime-fifteen",
   "metadata": {},
   "source": [
    "## 2. Условная конструкция `if`"
   ]
  },
  {
   "cell_type": "markdown",
   "id": "least-university",
   "metadata": {},
   "source": [
    "Все очень просто! С помощью данной конструкции мы говорим нашему коду, когда ему что-то делать."
   ]
  },
  {
   "cell_type": "markdown",
   "id": "sweet-marker",
   "metadata": {},
   "source": [
    "**Пример:** Сравнить числа $a$ и $b$ и вывести на экран наибольшее"
   ]
  },
  {
   "cell_type": "code",
   "execution_count": 11,
   "id": "broadband-pakistan",
   "metadata": {},
   "outputs": [
    {
     "name": "stdout",
     "output_type": "stream",
     "text": [
      "Введите число a: 10\n",
      "Введите число b: 20\n",
      "20\n"
     ]
    }
   ],
   "source": [
    "a = int(input(\"Введите число a: \"))\n",
    "b = int(input(\"Введите число b: \"))\n",
    "\n",
    "if a > b:\n",
    "    print(a)\n",
    "elif b > a:\n",
    "    print(b)\n",
    "else:\n",
    "    print(\"Числа равны\")"
   ]
  },
  {
   "cell_type": "markdown",
   "id": "simplified-italian",
   "metadata": {},
   "source": [
    "Операторы сравнения:  \n",
    "* `>` - больше\n",
    "* `<` - меньше\n",
    "* `>=` - больше либо равно\n",
    "* `<=` - меньше либо равно\n",
    "* `==` - равно (обращаем внимание, что два символа знака равенства!!)\n",
    "* `!=` - неравно "
   ]
  },
  {
   "cell_type": "markdown",
   "id": "indonesian-yesterday",
   "metadata": {},
   "source": [
    "**Другой пример:** Дано натуральное число. Требуется определить, является ли год с данным номером високосным. Если год является високосным, то выведите `YES`, иначе выведите `NO`. Напомним, что в соответствии с григорианским календарем, год является високосным, если его номер кратен $4$, но не кратен $100$, а также если он кратен $400$."
   ]
  },
  {
   "cell_type": "code",
   "execution_count": 35,
   "id": "fancy-spanking",
   "metadata": {},
   "outputs": [
    {
     "name": "stdout",
     "output_type": "stream",
     "text": [
      "2020\n",
      "YES\n"
     ]
    }
   ],
   "source": [
    "year = int(input())\n",
    "\n",
    "if year % 400 == 0:\n",
    "    print('YES')\n",
    "elif year % 100 == 0:\n",
    "    print('NO')\n",
    "elif year % 4 == 0:\n",
    "    print('YES')\n",
    "else:\n",
    "    print('NO')"
   ]
  },
  {
   "cell_type": "markdown",
   "id": "aging-reform",
   "metadata": {},
   "source": [
    "## 3. Цикл `for` "
   ]
  },
  {
   "cell_type": "markdown",
   "id": "handed-outreach",
   "metadata": {},
   "source": [
    "Данный цикл позволяет задать какую-то **итерируемую переменную**, которая будет пробегаться по последовательности из чисел (и не только из чисел) и принимать на каждом шаге значения из этой последовательности."
   ]
  },
  {
   "cell_type": "code",
   "execution_count": 14,
   "id": "promotional-feature",
   "metadata": {},
   "outputs": [
    {
     "name": "stdout",
     "output_type": "stream",
     "text": [
      "Шаг номер 0\n",
      "Шаг номер 1\n",
      "Шаг номер 2\n",
      "Шаг номер 3\n",
      "Шаг номер 4\n",
      "Шаг номер 5\n",
      "Шаг номер 6\n",
      "Шаг номер 7\n",
      "Шаг номер 8\n",
      "Шаг номер 9\n"
     ]
    }
   ],
   "source": [
    "for i in range(10):\n",
    "    print(f'Шаг номер {i}')"
   ]
  },
  {
   "cell_type": "markdown",
   "id": "focal-growth",
   "metadata": {},
   "source": [
    "`range(10)` - в данном случае создает нам последовательность из чисел $0, 1, 2, \\ldots, 9$. Обратите внимание, что **верхняя граница не входит**, а последовательность **начинается с нуля**! На самом деле `range()` это не просто функция, это _генератор_! А вот что такое генератор мы поговорим с вами на следующих занятиях."
   ]
  },
  {
   "cell_type": "markdown",
   "id": "outside-display",
   "metadata": {},
   "source": [
    "**Пример:** Дано натуральное число $n$. Нужно посчитать сумму квадратов чисел от $1$ до $n$, то есть посчитать $1^2 + 2^2 + \\ldots + n^2$"
   ]
  },
  {
   "cell_type": "code",
   "execution_count": 18,
   "id": "banner-sodium",
   "metadata": {},
   "outputs": [
    {
     "name": "stdout",
     "output_type": "stream",
     "text": [
      "10\n",
      "На шаге 1 сумма равняется 1\n",
      "На шаге 2 сумма равняется 5\n",
      "На шаге 3 сумма равняется 14\n",
      "На шаге 4 сумма равняется 30\n",
      "На шаге 5 сумма равняется 55\n",
      "На шаге 6 сумма равняется 91\n",
      "На шаге 7 сумма равняется 140\n",
      "На шаге 8 сумма равняется 204\n",
      "На шаге 9 сумма равняется 285\n",
      "На шаге 10 сумма равняется 385\n",
      "В итоге ответ: 385\n"
     ]
    }
   ],
   "source": [
    "n = int(input()) # наше натуральное число n\n",
    "summa = 0 # заведем переменную, в которой будем хранить сумму. Пока она равна нулю\n",
    "\n",
    "# начинаем пробегаться по числам от 1 до n и на каждом шаге добавлять результат в нашу переменную summa:\n",
    "for i in range(1, n+1):\n",
    "    summa = summa + i**2\n",
    "    print(f'На шаге {i} сумма равняется {summa}')\n",
    "    \n",
    "print(f'В итоге ответ: {summa}')"
   ]
  },
  {
   "cell_type": "markdown",
   "id": "growing-impact",
   "metadata": {},
   "source": [
    "**Замечание:** Код `summa = summa + i**2` можно написать короче, как `summa += i**2`. Далее будем пользоваться вторым вариантом"
   ]
  },
  {
   "cell_type": "markdown",
   "id": "statistical-pierre",
   "metadata": {},
   "source": [
    "## 4. Цикл `while` = `if` + `for`"
   ]
  },
  {
   "cell_type": "markdown",
   "id": "spatial-ballot",
   "metadata": {},
   "source": [
    "Если `for` позволяет нам выполнять какой-то код некоторое кол-во раз, причем оперируя с переменной, которая принимает на каждом шаге свое значение, то `while` позволяет выполнять код, _пока_ выполнено какое-то условие!"
   ]
  },
  {
   "cell_type": "markdown",
   "id": "typical-airport",
   "metadata": {},
   "source": [
    "**Пример:** Дано натуральное число $n$. Написать код, который будет считать, сколько нужно раз добавить $2$ к этому числу, чтобы получить число, превосходящее $100$. Например для числа $99$ ответ $1$, так как всего один раз нужно добавить $2$, чтобы получить число > $100$ ($99 + 2 = 101 > 100$)."
   ]
  },
  {
   "cell_type": "code",
   "execution_count": 23,
   "id": "physical-violence",
   "metadata": {},
   "outputs": [
    {
     "name": "stdout",
     "output_type": "stream",
     "text": [
      "1\n",
      "50\n"
     ]
    }
   ],
   "source": [
    "n = int(input())\n",
    "\n",
    "cnt = 0 # заведем переменную-счетчик, которая будет считать, сколько раз мы добавили 2 к числу n\n",
    "while n <= 100:\n",
    "    n += 2\n",
    "    cnt += 1\n",
    "    \n",
    "print(cnt)"
   ]
  },
  {
   "cell_type": "markdown",
   "id": "covered-ambassador",
   "metadata": {},
   "source": [
    "## 5. `break` и `continue`"
   ]
  },
  {
   "cell_type": "markdown",
   "id": "subject-alfred",
   "metadata": {},
   "source": [
    "С циклом `while` нужно быть очень осторожным. Если вы пропишете условие, которое у вас выполняется бесконечное кол-во раз, то в каких-то случаях программа может зависнуть. Конечно, в питоне это предусмотрено, поэтому он выполнит вам какое-то конечное число операций, а затем выдаст ошибку, что код выполняется очень долго, но все равно для решения задачи это не поможет. "
   ]
  },
  {
   "cell_type": "code",
   "execution_count": 31,
   "id": "premium-equilibrium",
   "metadata": {},
   "outputs": [
    {
     "ename": "KeyboardInterrupt",
     "evalue": "",
     "output_type": "error",
     "traceback": [
      "\u001b[0;31m---------------------------------------------------------------------------\u001b[0m",
      "\u001b[0;31mKeyboardInterrupt\u001b[0m                         Traceback (most recent call last)",
      "\u001b[0;32m<ipython-input-31-4496c342b16a>\u001b[0m in \u001b[0;36m<module>\u001b[0;34m\u001b[0m\n\u001b[1;32m      1\u001b[0m \u001b[0ma\u001b[0m \u001b[0;34m=\u001b[0m \u001b[0;36m5\u001b[0m\u001b[0;34m\u001b[0m\u001b[0;34m\u001b[0m\u001b[0m\n\u001b[1;32m      2\u001b[0m \u001b[0;34m\u001b[0m\u001b[0m\n\u001b[0;32m----> 3\u001b[0;31m \u001b[0;32mwhile\u001b[0m \u001b[0ma\u001b[0m \u001b[0;34m<\u001b[0m \u001b[0;36m10\u001b[0m\u001b[0;34m:\u001b[0m\u001b[0;34m\u001b[0m\u001b[0;34m\u001b[0m\u001b[0m\n\u001b[0m\u001b[1;32m      4\u001b[0m     \u001b[0;32mpass\u001b[0m\u001b[0;34m\u001b[0m\u001b[0;34m\u001b[0m\u001b[0m\n",
      "\u001b[0;31mKeyboardInterrupt\u001b[0m: "
     ]
    }
   ],
   "source": [
    "a = 5\n",
    "\n",
    "while a < 10:\n",
    "    pass"
   ]
  },
  {
   "cell_type": "markdown",
   "id": "surgical-difference",
   "metadata": {},
   "source": [
    "Иногда бывает полезно самому останавливать код в некоторых ситуациях. Для этого используется `break`. Как только код доходит до строки с break, он полностью **прерывается и перестает работать**. "
   ]
  },
  {
   "cell_type": "code",
   "execution_count": 33,
   "id": "sapphire-module",
   "metadata": {},
   "outputs": [
    {
     "name": "stdout",
     "output_type": "stream",
     "text": [
      "0\n",
      "1\n",
      "2\n",
      "3\n",
      "4\n",
      "5\n"
     ]
    }
   ],
   "source": [
    "for i in range(100):\n",
    "    if i > 5:\n",
    "        break\n",
    "    print(i)"
   ]
  },
  {
   "cell_type": "markdown",
   "id": "dated-buyer",
   "metadata": {},
   "source": [
    "Другим полезным оператором является `continue`. Он, наоборот, позволяет продолжать код, несмотря на какие-то условия, а чаще всего используется, чтобы пропустить какую-то итерацию"
   ]
  },
  {
   "cell_type": "code",
   "execution_count": 34,
   "id": "injured-doubt",
   "metadata": {},
   "outputs": [
    {
     "name": "stdout",
     "output_type": "stream",
     "text": [
      "i = 0\n",
      "k = 4 \n",
      "\n",
      "i = 1\n",
      "k = 8 \n",
      "\n",
      "i = 2\n",
      "k = 16 \n",
      "\n",
      "i = 3\n",
      "k = 32 \n",
      "\n",
      "i = 4\n",
      "k = 64 \n",
      "\n",
      "i = 6\n",
      "k = 256 \n",
      "\n",
      "i = 7\n",
      "k = 512 \n",
      "\n",
      "i = 8\n",
      "k = 1024 \n",
      "\n",
      "i = 9\n",
      "k = 2048 \n",
      "\n"
     ]
    }
   ],
   "source": [
    "k = 2\n",
    "for i in range(10):\n",
    "    k *= 2\n",
    "    if i == 5: \n",
    "        continue\n",
    "    print(f'i = {i}')\n",
    "    print(f'k = {k} \\n')"
   ]
  },
  {
   "cell_type": "markdown",
   "id": "involved-accessory",
   "metadata": {},
   "source": [
    "## 6. Списки"
   ]
  },
  {
   "cell_type": "markdown",
   "id": "silver-california",
   "metadata": {},
   "source": [
    "Зачастую одного объекта (например, числа) нам бывает маловато. Хочется хранить много объектов в одном. Для этого используются **списки** (иногда называют _массивы_). Хоть список и состоит из нескольких объектов, он сам - это тоже объект! "
   ]
  },
  {
   "cell_type": "markdown",
   "id": "atmospheric-allah",
   "metadata": {},
   "source": [
    "Список задается с помощью квадратных скобок и может хранить в себе объекты разных типов:"
   ]
  },
  {
   "cell_type": "code",
   "execution_count": 7,
   "id": "turkish-walker",
   "metadata": {},
   "outputs": [
    {
     "data": {
      "text/plain": [
       "[10, 5, 3, 'Python', True, False, -100]"
      ]
     },
     "execution_count": 7,
     "metadata": {},
     "output_type": "execute_result"
    }
   ],
   "source": [
    "x = [10, 5, 3, 'Python', True, False, -100]\n",
    "x"
   ]
  },
  {
   "cell_type": "markdown",
   "id": "arranged-visibility",
   "metadata": {},
   "source": [
    "По спискам мы можем делать **срезы** - то есть доставать часть информации"
   ]
  },
  {
   "cell_type": "code",
   "execution_count": 8,
   "id": "fluid-monster",
   "metadata": {},
   "outputs": [
    {
     "data": {
      "text/plain": [
       "10"
      ]
     },
     "execution_count": 8,
     "metadata": {},
     "output_type": "execute_result"
    }
   ],
   "source": [
    "x[0] # первый элемент списка (помним, что счет начинается с нуля!)"
   ]
  },
  {
   "cell_type": "code",
   "execution_count": 9,
   "id": "ambient-cooper",
   "metadata": {},
   "outputs": [
    {
     "data": {
      "text/plain": [
       "-100"
      ]
     },
     "execution_count": 9,
     "metadata": {},
     "output_type": "execute_result"
    }
   ],
   "source": [
    "x[-1] # последний элемент списка"
   ]
  },
  {
   "cell_type": "code",
   "execution_count": 10,
   "id": "amino-significance",
   "metadata": {},
   "outputs": [
    {
     "data": {
      "text/plain": [
       "[3, 'Python']"
      ]
     },
     "execution_count": 10,
     "metadata": {},
     "output_type": "execute_result"
    }
   ],
   "source": [
    "x[2:4] # со 2 по 4 элемент списка (помним, что верхняя граница не включается!)"
   ]
  },
  {
   "cell_type": "code",
   "execution_count": 11,
   "id": "natural-residence",
   "metadata": {},
   "outputs": [
    {
     "data": {
      "text/plain": [
       "[10, 5, 3, 'Python', True, False, -100]"
      ]
     },
     "execution_count": 11,
     "metadata": {},
     "output_type": "execute_result"
    }
   ],
   "source": [
    "x[:] # срез по всем элементам (просто не указываем границы)"
   ]
  },
  {
   "cell_type": "code",
   "execution_count": 12,
   "id": "embedded-timothy",
   "metadata": {},
   "outputs": [
    {
     "data": {
      "text/plain": [
       "False"
      ]
     },
     "execution_count": 12,
     "metadata": {},
     "output_type": "execute_result"
    }
   ],
   "source": [
    "x[:] is x # индексирование создает новый объект"
   ]
  },
  {
   "cell_type": "markdown",
   "id": "flexible-potato",
   "metadata": {},
   "source": [
    "Можем вывести только элементы, стоящие на четных местах в списке. Сделать это можно с помощью указания шага через еще одно двоеточие: "
   ]
  },
  {
   "cell_type": "code",
   "execution_count": 29,
   "id": "inclusive-february",
   "metadata": {},
   "outputs": [
    {
     "data": {
      "text/plain": [
       "[10, 3, True, -100]"
      ]
     },
     "execution_count": 29,
     "metadata": {},
     "output_type": "execute_result"
    }
   ],
   "source": [
    "x[::2]"
   ]
  },
  {
   "cell_type": "markdown",
   "id": "breeding-elevation",
   "metadata": {},
   "source": [
    "Подумайте, как бы вы перевернули список?"
   ]
  },
  {
   "cell_type": "code",
   "execution_count": null,
   "id": "moral-bloom",
   "metadata": {},
   "outputs": [],
   "source": [
    "# Ваш код"
   ]
  },
  {
   "cell_type": "markdown",
   "id": "analyzed-consultancy",
   "metadata": {},
   "source": [
    "**Списки - это итерируемые объекты**. То есть по ним можно пройтись с помощью `for`"
   ]
  },
  {
   "cell_type": "code",
   "execution_count": 34,
   "id": "minimal-telling",
   "metadata": {},
   "outputs": [
    {
     "name": "stdout",
     "output_type": "stream",
     "text": [
      "Квадрат числа 1 равен 1\n",
      "Квадрат числа 100 равен 10000\n",
      "Квадрат числа -1 равен 1\n",
      "Квадрат числа 20 равен 400\n",
      "Квадрат числа 42 равен 1764\n",
      "Квадрат числа 0 равен 0\n"
     ]
    }
   ],
   "source": [
    "x = [1, 100, -1, 20, 42, 0]\n",
    "\n",
    "for item in x:\n",
    "    y = item**2\n",
    "    print(f'Квадрат числа {item} равен {y}')"
   ]
  },
  {
   "cell_type": "markdown",
   "id": "verbal-surgeon",
   "metadata": {},
   "source": [
    "**Полезные функции и методы при работе со списками:**  \n",
    "\n",
    "Функции:\n",
    "* `sum()` - выдает сумму всех элементов списка\n",
    "* `len()` - выдает длину списка (т.е. сколько в нем элементов) \n",
    "* `max()` / `min()` - выдает максимальный / минимальный элемент списка\n",
    "* `sorted()` - сортирует список \n",
    "* ..."
   ]
  },
  {
   "cell_type": "code",
   "execution_count": 7,
   "id": "spatial-creek",
   "metadata": {},
   "outputs": [
    {
     "name": "stdout",
     "output_type": "stream",
     "text": [
      "668\n",
      "\n",
      "7\n",
      "\n",
      "500\n",
      "\n",
      "[-1, 0, 2, 25, 42, 100, 500]\n"
     ]
    }
   ],
   "source": [
    "x = [100, 2, -1, 500, 0, 25, 42]\n",
    "\n",
    "print(sum(x))\n",
    "print()\n",
    "print(len(x))\n",
    "print()\n",
    "print(max(x))\n",
    "print()\n",
    "print(sorted(x))"
   ]
  },
  {
   "cell_type": "markdown",
   "id": "authentic-treasure",
   "metadata": {},
   "source": [
    "По умолчанию функция `sorted()` сортирует список _по возрастанию_. Происходит это потому, что аргумент `reverse` внутри данной функции по умолчанию принимает значение `False`, что и означает, что нужно отсортировать по возрастанию. Такие аргументы (которые принимают по умолчанию какое-то значение) называются **дефолтными**. Они нужны для удобства, чтобы не указывать каждый раз значения для всех аргументов. Так вот, если мы поменяем данный аргумент на `True`, то список начнет сортироваться _по убыванию_. "
   ]
  },
  {
   "cell_type": "code",
   "execution_count": 8,
   "id": "accessible-passion",
   "metadata": {},
   "outputs": [
    {
     "data": {
      "text/plain": [
       "[500, 100, 42, 25, 2, 0, -1]"
      ]
     },
     "execution_count": 8,
     "metadata": {},
     "output_type": "execute_result"
    }
   ],
   "source": [
    "sorted(x, reverse=True)"
   ]
  },
  {
   "cell_type": "markdown",
   "id": "patient-palestine",
   "metadata": {},
   "source": [
    "Методы:  \n",
    "* `.append(x)` - добавляет элемент $x$ в конец списка\n",
    "* `.prepend(x)` - добавляет элемент $x$ в начало списка\n",
    "* `.extend(L)` - расширяет список, добавляя в конец все элементы списка L\n",
    "* `.remove(x)` - удаляет первый элемент в списке, имеющий значение x\n",
    "* `.pop(i)` - удаляет i-ый элемент и возвращает его \n",
    "* `del lst[i]` - удаляет i-ый элемент из списка\n",
    "* `.sort()` - сортирует список\n",
    "* `.reverse()` - разворачивает список\n",
    "\n",
    "Подробнее об отличиях метода от функций мы поговорим чуть позднее, когда будем говорить об ООП. Пока что просто посмотрите, как отличается синтаксис написания функции от метода. **Метод вызывается от объекта через `.`**. Также запомните, что большинство методов **изменяют** объект."
   ]
  },
  {
   "cell_type": "code",
   "execution_count": 9,
   "id": "reduced-melissa",
   "metadata": {},
   "outputs": [
    {
     "name": "stdout",
     "output_type": "stream",
     "text": [
      "[100, 2, -1, 500, 0, 25, 42]\n",
      "[100, 2, -1, 500, 0, 25, 42, 5]\n"
     ]
    }
   ],
   "source": [
    "x = [100, 2, -1, 500, 0, 25, 42]\n",
    "\n",
    "print(x)\n",
    "\n",
    "x.append(5)\n",
    "\n",
    "print(x) # список после метода append изменился"
   ]
  },
  {
   "cell_type": "code",
   "execution_count": 10,
   "id": "minute-multiple",
   "metadata": {},
   "outputs": [
    {
     "name": "stdout",
     "output_type": "stream",
     "text": [
      "[100, 2, -1, 500, 0, 25, 42]\n",
      "[-1, 0, 2, 25, 42, 100, 500]\n"
     ]
    }
   ],
   "source": [
    "x = [100, 2, -1, 500, 0, 25, 42]\n",
    "\n",
    "print(x)\n",
    "\n",
    "x.sort()\n",
    "\n",
    "print(x) # список после метода sort изменился. Для функции sorted это не так"
   ]
  },
  {
   "cell_type": "code",
   "execution_count": 11,
   "id": "russian-spelling",
   "metadata": {},
   "outputs": [
    {
     "name": "stdout",
     "output_type": "stream",
     "text": [
      "[100, 2, -1, 500, 0, 25, 42, 0, 0, 0, 1, 1, 0]\n"
     ]
    }
   ],
   "source": [
    "x1 = [100, 2, -1, 500, 0, 25, 42]\n",
    "x2 = [0, 0, 0, 1, 1, 0]\n",
    "\n",
    "x1.extend(x2)\n",
    "\n",
    "print(x1)"
   ]
  },
  {
   "cell_type": "markdown",
   "id": "clean-focus",
   "metadata": {},
   "source": [
    "## 7. Строки"
   ]
  },
  {
   "cell_type": "markdown",
   "id": "crazy-hazard",
   "metadata": {},
   "source": [
    "**Строки тоже итерируемые объекты**, поэтому мы можем гулять по элементам в них также с помощью `for`"
   ]
  },
  {
   "cell_type": "code",
   "execution_count": 12,
   "id": "designed-jefferson",
   "metadata": {},
   "outputs": [
    {
     "name": "stdout",
     "output_type": "stream",
     "text": [
      "!\n",
      "ю\n",
      "ф\n",
      "ы\n",
      "а\n",
      "ф\n",
      ".\n",
      "п\n",
      "р\n",
      "и\n",
      "в\n",
      "е\n",
      "т\n",
      "/\n",
      "/\n",
      " \n",
      " \n",
      "а\n"
     ]
    }
   ],
   "source": [
    "stroka = '!юфыаф.привет//  а'\n",
    "\n",
    "for item in stroka:\n",
    "    print(item)"
   ]
  },
  {
   "cell_type": "markdown",
   "id": "sound-berlin",
   "metadata": {},
   "source": [
    "**Полезные методы при работе со строками:**  \n",
    "\n",
    "* `.find(str)` - поиск подстроки str в строке. Возвращает номер **первого** вхождения\n",
    "* `.rfind(str)` - поиск подстроки str в строке. Возвращает номер **последнего** вхождения\n",
    "* `.replace(шаблон, замена)` - замена шаблона\n",
    "* `.split(символ разделителя)` - разбиение строки по разделителю\n",
    "* `'разделитель'.join(список)` - сборка строки из списка с разделителем\n",
    "* `.strip()` - удаление пробельных символов в начале и в конце строки\n",
    "* `.isdigit()` - состоит ли строка из цифр\n",
    "* `.isalpha()` - состоит ли строка из букв\n",
    "* `.isalnum()` - состоит ли строка из цифр или букв\n",
    "* `.islower()` - состоит ли строка из символов в нижнем регистре\n",
    "* `.isupper()` - состоит ли строка из символов в верхнем регистре\n",
    "* `.isspace()` - состоит ли строка из разных пробельных символов\n",
    "* `.istitle()` - начинаются ли слова в строке с заглавной буквы\n",
    "* `.upper()` - преобразование строки к верхнему регистру\n",
    "* `.lower()` - преобразование строки к нижнему регистру\n",
    "* `.title()` - преобразование первой буквы каждого слова в верхний регистр, а все остальные в нижний\n",
    "* `.capitalize()` - преобразование первого символа строки в верхний регистр, а все остальные в нижний\n",
    "* `.startswith(str)` - начинается ли строка с шаблона str\n",
    "* `.endswith(str)` - заканчивается ли строка шаблоном str \n",
    "* `.count(str)` - считает вхождение паттерна str в строку \n",
    "\n",
    "\n",
    "А вот эти методы строку не изменяют! "
   ]
  },
  {
   "cell_type": "code",
   "execution_count": 29,
   "id": "oriented-scotland",
   "metadata": {},
   "outputs": [
    {
     "name": "stdout",
     "output_type": "stream",
     "text": [
      "['Hello world', ' My name is Sasha', ' I am a beginner programmer']\n",
      "\n",
      "Hello world. My name is Sasha. I am a beginner programmer\n"
     ]
    }
   ],
   "source": [
    "s = \"Hello world. My name is Sasha. I am a beginner programmer\"\n",
    "\n",
    "lst = s.split('.') # разбили на предложения по разделителю точки => получили список\n",
    "print(lst)\n",
    "print()\n",
    "\n",
    "s_new = '.'.join(lst) # собрали из списка обратно строку\n",
    "print(s_new)"
   ]
  },
  {
   "cell_type": "code",
   "execution_count": 5,
   "id": "mechanical-jamaica",
   "metadata": {},
   "outputs": [
    {
     "data": {
      "text/plain": [
       "4"
      ]
     },
     "execution_count": 5,
     "metadata": {},
     "output_type": "execute_result"
    }
   ],
   "source": [
    "s = 'ding ding dong ding ding dong'\n",
    "\n",
    "s.count('ding')"
   ]
  }
 ],
 "metadata": {
  "kernelspec": {
   "display_name": "Python 3",
   "language": "python",
   "name": "python3"
  },
  "language_info": {
   "codemirror_mode": {
    "name": "ipython",
    "version": 3
   },
   "file_extension": ".py",
   "mimetype": "text/x-python",
   "name": "python",
   "nbconvert_exporter": "python",
   "pygments_lexer": "ipython3",
   "version": "3.9.2"
  }
 },
 "nbformat": 4,
 "nbformat_minor": 5
}
